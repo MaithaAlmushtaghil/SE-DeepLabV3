{
 "cells": [
  {
   "cell_type": "markdown",
   "metadata": {},
   "source": [
    "**Train CSV file**"
   ]
  },
  {
   "cell_type": "code",
   "execution_count": 2,
   "metadata": {},
   "outputs": [],
   "source": [
    "import os\n",
    "import csv\n",
    "\n",
    "imgs_dir = \"/home/maitha.alnaqbi/Desktop/ai702_project/Coronary/train/imgs/\"\n",
    "masks_dir = \"/home/maitha.alnaqbi/Desktop/ai702_project/Coronary/train/masks/\"\n",
    "\n",
    "output_csv = \"/home/maitha.alnaqbi/Desktop/ai702_project/Coronary/train/train_data.csv\"\n",
    "\n",
    "img_files = sorted([f for f in os.listdir(imgs_dir) if f.endswith('.png')])\n",
    "mask_files = sorted([f for f in os.listdir(masks_dir) if f.endswith('_mask_0.png') or f.endswith('_combined_mask.png')])\n",
    "\n",
    "data = []\n",
    "\n",
    "for img_file in img_files:\n",
    "    img_path = os.path.join(imgs_dir, img_file)\n",
    "    \n",
    "    mask_file = img_file.replace('.png', '_mask_0.png')\n",
    "    mask_path = os.path.join(masks_dir, mask_file)\n",
    "    \n",
    "    if not os.path.exists(mask_path):\n",
    "        mask_file = img_file.replace('.png', '_combined_mask.png')\n",
    "        mask_path = os.path.join(masks_dir, mask_file)\n",
    "        \n",
    "        if not os.path.exists(mask_path):\n",
    "            continue\n",
    "    \n",
    "    data.append([img_path, mask_path])\n",
    "\n",
    "with open(output_csv, 'w', newline='') as csvfile:\n",
    "    writer = csv.writer(csvfile)\n",
    "    writer.writerow(['image', 'mask'])\n",
    "    writer.writerows(data)\n"
   ]
  },
  {
   "cell_type": "markdown",
   "metadata": {},
   "source": [
    "**Test CSV file**"
   ]
  },
  {
   "cell_type": "code",
   "execution_count": 3,
   "metadata": {},
   "outputs": [],
   "source": [
    "imgs_dir = \"/home/maitha.alnaqbi/Desktop/ai702_project/Coronary/test/imgs/\"\n",
    "masks_dir = \"/home/maitha.alnaqbi/Desktop/ai702_project/Coronary/test/masks/\"\n",
    "\n",
    "output_csv = \"/home/maitha.alnaqbi/Desktop/ai702_project/Coronary/test/test_data.csv\"\n",
    "img_files = sorted([f for f in os.listdir(imgs_dir) if f.endswith('.png')])\n",
    "\n",
    "mask_files = sorted([f for f in os.listdir(masks_dir) if f.endswith('_mask_0.png') or f.endswith('_combined_mask.png')])\n",
    "\n",
    "data = []\n",
    "\n",
    "for img_file in img_files:\n",
    "    img_path = os.path.join(imgs_dir, img_file)\n",
    "    \n",
    "    mask_file = img_file.replace('.png', '_mask_0.png')\n",
    "    mask_path = os.path.join(masks_dir, mask_file)\n",
    "    \n",
    "    if not os.path.exists(mask_path):\n",
    "        mask_file = img_file.replace('.png', '_combined_mask.png')\n",
    "        mask_path = os.path.join(masks_dir, mask_file)\n",
    "        \n",
    "        if not os.path.exists(mask_path):\n",
    "            continue\n",
    "    \n",
    "    data.append([img_path, mask_path])\n",
    "\n",
    "with open(output_csv, 'w', newline='') as csvfile:\n",
    "    writer = csv.writer(csvfile)\n",
    "    writer.writerow(['image', 'mask'])\n",
    "    writer.writerows(data)\n"
   ]
  },
  {
   "cell_type": "markdown",
   "metadata": {},
   "source": [
    "**Validation CSV file**"
   ]
  },
  {
   "cell_type": "code",
   "execution_count": 4,
   "metadata": {},
   "outputs": [],
   "source": [
    "imgs_dir = \"/home/maitha.alnaqbi/Desktop/ai702_project/Coronary/val/imgs/\"\n",
    "masks_dir = \"/home/maitha.alnaqbi/Desktop/ai702_project/Coronary/val/masks/\"\n",
    "\n",
    "output_csv = \"/home/maitha.alnaqbi/Desktop/ai702_project/Coronary/val/val_data.csv\"\n",
    "img_files = sorted([f for f in os.listdir(imgs_dir) if f.endswith('.png')])\n",
    "\n",
    "mask_files = sorted([f for f in os.listdir(masks_dir) if f.endswith('_mask_0.png') or f.endswith('_combined_mask.png')])\n",
    "\n",
    "data = []\n",
    "\n",
    "for img_file in img_files:\n",
    "    img_path = os.path.join(imgs_dir, img_file)\n",
    "    \n",
    "    mask_file = img_file.replace('.png', '_mask_0.png')\n",
    "    mask_path = os.path.join(masks_dir, mask_file)\n",
    "    \n",
    "    if not os.path.exists(mask_path):\n",
    "        mask_file = img_file.replace('.png', '_combined_mask.png')\n",
    "        mask_path = os.path.join(masks_dir, mask_file)\n",
    "        \n",
    "        if not os.path.exists(mask_path):\n",
    "            continue\n",
    "    \n",
    "    data.append([img_path, mask_path])\n",
    "\n",
    "with open(output_csv, 'w', newline='') as csvfile:\n",
    "    writer = csv.writer(csvfile)\n",
    "    writer.writerow(['image', 'mask']) \n",
    "    writer.writerows(data) "
   ]
  }
 ],
 "metadata": {
  "kernelspec": {
   "display_name": "Python 3",
   "language": "python",
   "name": "python3"
  },
  "language_info": {
   "codemirror_mode": {
    "name": "ipython",
    "version": 3
   },
   "file_extension": ".py",
   "mimetype": "text/x-python",
   "name": "python",
   "nbconvert_exporter": "python",
   "pygments_lexer": "ipython3",
   "version": "3.8.11"
  },
  "orig_nbformat": 4
 },
 "nbformat": 4,
 "nbformat_minor": 2
}
